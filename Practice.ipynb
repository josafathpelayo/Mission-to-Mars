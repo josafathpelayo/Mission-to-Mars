{
 "cells": [
  {
   "cell_type": "code",
   "execution_count": 1,
   "metadata": {},
   "outputs": [],
   "source": [
    "from splinter import Browser\n",
    "from bs4 import BeautifulSoup as soup"
   ]
  },
  {
   "cell_type": "code",
   "execution_count": 2,
   "metadata": {},
   "outputs": [
    {
     "name": "stderr",
     "output_type": "stream",
     "text": [
      "'which' is not recognized as an internal or external command,\n",
      "operable program or batch file.\n"
     ]
    }
   ],
   "source": [
    "# Path to chromedriver\n",
    "!which chromedriver"
   ]
  },
  {
   "cell_type": "code",
   "execution_count": 3,
   "metadata": {},
   "outputs": [],
   "source": [
    "# Windows users\n",
    "executable_path = {'executable_path': 'C:\\webdrivers\\chromedriver.exe'}\n",
    "browser = Browser('chrome', **executable_path, headless=False)"
   ]
  },
  {
   "cell_type": "code",
   "execution_count": 4,
   "metadata": {},
   "outputs": [],
   "source": [
    "# Visit the Quotes to Scrape site\n",
    "url = 'http://quotes.toscrape.com/'\n",
    "browser.visit(url)"
   ]
  },
  {
   "cell_type": "code",
   "execution_count": 5,
   "metadata": {},
   "outputs": [],
   "source": [
    "# Parse the HTML\n",
    "html = browser.html\n",
    "html_soup = soup(html, 'html.parser')"
   ]
  },
  {
   "cell_type": "code",
   "execution_count": 6,
   "metadata": {
    "scrolled": true
   },
   "outputs": [
    {
     "data": {
      "text/plain": [
       "'Top Ten tags'"
      ]
     },
     "execution_count": 6,
     "metadata": {},
     "output_type": "execute_result"
    }
   ],
   "source": [
    "# Scrape the Title\n",
    "title = html_soup.find('h2').text\n",
    "title"
   ]
  },
  {
   "cell_type": "code",
   "execution_count": 7,
   "metadata": {},
   "outputs": [
    {
     "name": "stdout",
     "output_type": "stream",
     "text": [
      "love\n",
      "inspirational\n",
      "life\n",
      "humor\n",
      "books\n",
      "reading\n",
      "friendship\n",
      "friends\n",
      "truth\n",
      "simile\n"
     ]
    }
   ],
   "source": [
    "# Scrape the top ten tags\n",
    "tag_box = html_soup.find('div', class_='tags-box')\n",
    "# tag_box\n",
    "tags = tag_box.find_all('a', class_='tag')\n",
    "\n",
    "for tag in tags:\n",
    "    word = tag.text\n",
    "    print(word)"
   ]
  },
  {
   "cell_type": "code",
   "execution_count": 9,
   "metadata": {},
   "outputs": [],
   "source": [
    "url = 'http://quotes.toscrape.com/'\n",
    "browser.visit(url)"
   ]
  },
  {
   "cell_type": "code",
   "execution_count": 12,
   "metadata": {},
   "outputs": [],
   "source": [
    "# A for loop with 5 iterations (pages 1-6)\n",
    "for x in range(1, 6):\n",
    "    #Create an HTML object, assigned to the html variable\n",
    "   html = browser.html\n",
    "    #use beautifulSoup to parse the html object\n",
    "   quote_soup = soup (html, 'html.parser')\n",
    "    #Use BeautifulSoup to find all <spann/> tags with a class of \"text\"\n",
    "   quotes = quote_soup.find_all('span', class_='qoute')\n",
    "    #Dor loop to print qoutes from pages\n",
    "   for quote in quotes:\n",
    "      print('page:', x, '----------')\n",
    "      print(quote.text)\n",
    "    #use splinter to clicj the \"Next\" Button\n",
    "   browser.links.find_by_partial_text('Next')"
   ]
  },
  {
   "cell_type": "code",
   "execution_count": 13,
   "metadata": {},
   "outputs": [],
   "source": [
    "url = 'http://books.toscrape.com/'\n",
    "browser.visit(url)"
   ]
  },
  {
   "cell_type": "code",
   "execution_count": 14,
   "metadata": {},
   "outputs": [],
   "source": [
    "# Parse the HTML\n",
    "html = browser.html\n",
    "html_soup = soup(html, 'html.parser')"
   ]
  },
  {
   "cell_type": "code",
   "execution_count": 15,
   "metadata": {},
   "outputs": [
    {
     "data": {
      "text/plain": [
       "'Books to Scrape'"
      ]
     },
     "execution_count": 15,
     "metadata": {},
     "output_type": "execute_result"
    }
   ],
   "source": [
    "title = html_soup.find('a').text\n",
    "title"
   ]
  },
  {
   "cell_type": "code",
   "execution_count": 20,
   "metadata": {},
   "outputs": [
    {
     "name": "stdout",
     "output_type": "stream",
     "text": [
      "catalogue/a-light-in-the-attic_1000/index.html\n",
      "catalogue/tipping-the-velvet_999/index.html\n",
      "catalogue/soumission_998/index.html\n",
      "catalogue/sharp-objects_997/index.html\n",
      "catalogue/sapiens-a-brief-history-of-humankind_996/index.html\n",
      "catalogue/the-requiem-red_995/index.html\n",
      "catalogue/the-dirty-little-secrets-of-getting-your-dream-job_994/index.html\n",
      "catalogue/the-coming-woman-a-novel-based-on-the-life-of-the-infamous-feminist-victoria-woodhull_993/index.html\n",
      "catalogue/the-boys-in-the-boat-nine-americans-and-their-epic-quest-for-gold-at-the-1936-berlin-olympics_992/index.html\n",
      "catalogue/the-black-maria_991/index.html\n",
      "catalogue/starving-hearts-triangular-trade-trilogy-1_990/index.html\n",
      "catalogue/shakespeares-sonnets_989/index.html\n",
      "catalogue/set-me-free_988/index.html\n",
      "catalogue/scott-pilgrims-precious-little-life-scott-pilgrim-1_987/index.html\n",
      "catalogue/rip-it-up-and-start-again_986/index.html\n",
      "catalogue/our-band-could-be-your-life-scenes-from-the-american-indie-underground-1981-1991_985/index.html\n",
      "catalogue/olio_984/index.html\n",
      "catalogue/mesaerion-the-best-science-fiction-stories-1800-1849_983/index.html\n",
      "catalogue/libertarianism-for-beginners_982/index.html\n",
      "catalogue/its-only-the-himalayas_981/index.html\n"
     ]
    }
   ],
   "source": [
    "# Scrape book URL List\n",
    "image_containers = html_soup.find_all('div', class_='image_container')\n",
    "#image_containers\n",
    "for container in image_containers:\n",
    "    link = container.find('a')['href']\n",
    "    print(link)\n",
    "#categories = tag_box.find_all('a', class_='tag')"
   ]
  },
  {
   "cell_type": "code",
   "execution_count": null,
   "metadata": {},
   "outputs": [],
   "source": []
  }
 ],
 "metadata": {
  "kernelspec": {
   "display_name": "PythonData",
   "language": "python",
   "name": "pythondata"
  },
  "language_info": {
   "codemirror_mode": {
    "name": "ipython",
    "version": 3
   },
   "file_extension": ".py",
   "mimetype": "text/x-python",
   "name": "python",
   "nbconvert_exporter": "python",
   "pygments_lexer": "ipython3",
   "version": "3.7.9"
  }
 },
 "nbformat": 4,
 "nbformat_minor": 4
}
